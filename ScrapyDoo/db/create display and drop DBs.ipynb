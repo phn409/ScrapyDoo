{
 "cells": [
  {
   "cell_type": "code",
   "execution_count": 1,
   "metadata": {
    "collapsed": true
   },
   "outputs": [],
   "source": [
    "import sqlalchemy as sqal\n",
    "from importlib import reload\n",
    "sqal=reload(sqal)"
   ]
  },
  {
   "cell_type": "code",
   "execution_count": 6,
   "metadata": {
    "collapsed": false
   },
   "outputs": [
    {
     "name": "stdout",
     "output_type": "stream",
     "text": [
      "('information_schema',)\n",
      "('mysql',)\n",
      "('performance_schema',)\n",
      "('prx',)\n",
      "('sys',)\n",
      "\n",
      "error\n",
      "('information_schema',)\n",
      "('mysql',)\n",
      "('performance_schema',)\n",
      "('prx',)\n",
      "('sys',)\n",
      "\n",
      "('information_schema',)\n",
      "('mysql',)\n",
      "('performance_schema',)\n",
      "('prx',)\n",
      "('sys',)\n"
     ]
    }
   ],
   "source": [
    "engine = sqal.create_engine('mysql+mysqlconnector://'\n",
    "                              'root:MySQLPassword@127.0.0.1'\n",
    "                             '/sys')\n",
    "\n",
    "# show databases\n",
    "databases=engine.execute('SHOW DATABASES')\n",
    "for db_name in databases.fetchall(): print(db_name)\n",
    "    \n",
    "# get the underlying connection\n",
    "con=engine.connect()\n",
    "print('')\n",
    "con.execute('commit')\n",
    "try:con.execute('CREATE DATABASE prx')\n",
    "except: pass\n",
    "\n",
    "databases=engine.execute('SHOW DATABASES')\n",
    "for db_name in databases.fetchall(): print(db_name)\n",
    "    \n",
    "print('')\n",
    "# con.execute('DROP DATABASE prx')\n",
    "\n",
    "databases=engine.execute('SHOW DATABASES')\n",
    "for db_name in databases.fetchall(): print(db_name)\n"
   ]
  },
  {
   "cell_type": "code",
   "execution_count": null,
   "metadata": {
    "collapsed": true
   },
   "outputs": [],
   "source": []
  }
 ],
 "metadata": {
  "kernelspec": {
   "display_name": "Python [default]",
   "language": "python",
   "name": "python3"
  },
  "language_info": {
   "codemirror_mode": {
    "name": "ipython",
    "version": 3
   },
   "file_extension": ".py",
   "mimetype": "text/x-python",
   "name": "python",
   "nbconvert_exporter": "python",
   "pygments_lexer": "ipython3",
   "version": "3.5.2"
  }
 },
 "nbformat": 4,
 "nbformat_minor": 2
}
