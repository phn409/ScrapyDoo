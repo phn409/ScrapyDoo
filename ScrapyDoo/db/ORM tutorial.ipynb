{
 "cells": [
  {
   "cell_type": "code",
   "execution_count": 3,
   "metadata": {
    "collapsed": true
   },
   "outputs": [],
   "source": [
    "import sqlalchemy as sqal\n",
    "import sqlalchemy.orm as orm"
   ]
  },
  {
   "cell_type": "code",
   "execution_count": 10,
   "metadata": {
    "collapsed": false
   },
   "outputs": [],
   "source": [
    "# create sql engine (this is the thing that talks to sql I guess)\n",
    "dbName='prx'\n",
    "servIP='127.0.0.1'\n",
    "username='root'\n",
    "password='MySQLPassword'\n",
    "databaseType='mysql+mysqlconnector'\n",
    "\n",
    "engine=sqal.create_engine(databaseType+'://'+\n",
    "                         username+':'+password+'@'+servIP+'/'+dbName,\n",
    "                         echo=True)\n",
    "\n",
    "# create sql session that is bound to this engine(this is something for the ORM)\n",
    "Session=orm.sessionmaker(bind=engine)\n",
    "\n",
    "# create a session object\n",
    "sess=Session()"
   ]
  },
  {
   "cell_type": "code",
   "execution_count": 11,
   "metadata": {
    "collapsed": false,
    "scrolled": false
   },
   "outputs": [
    {
     "name": "stdout",
     "output_type": "stream",
     "text": [
      "2019-08-19 14:43:05,591 INFO sqlalchemy.engine.base.Engine SHOW VARIABLES LIKE 'sql_mode'\n",
      "2019-08-19 14:43:05,591 INFO sqlalchemy.engine.base.Engine {}\n",
      "2019-08-19 14:43:05,591 INFO sqlalchemy.engine.base.Engine SHOW VARIABLES LIKE 'lower_case_table_names'\n",
      "2019-08-19 14:43:05,591 INFO sqlalchemy.engine.base.Engine {}\n",
      "2019-08-19 14:43:05,607 INFO sqlalchemy.engine.base.Engine SELECT DATABASE()\n",
      "2019-08-19 14:43:05,607 INFO sqlalchemy.engine.base.Engine {}\n",
      "2019-08-19 14:43:05,607 INFO sqlalchemy.engine.base.Engine SELECT CAST('test plain returns' AS CHAR(60)) AS anon_1\n",
      "2019-08-19 14:43:05,607 INFO sqlalchemy.engine.base.Engine {}\n",
      "2019-08-19 14:43:05,607 INFO sqlalchemy.engine.base.Engine SELECT CAST('test unicode returns' AS CHAR(60)) AS anon_1\n",
      "2019-08-19 14:43:05,607 INFO sqlalchemy.engine.base.Engine {}\n",
      "2019-08-19 14:43:05,607 INFO sqlalchemy.engine.base.Engine SHOW DATABASES\n",
      "2019-08-19 14:43:05,607 INFO sqlalchemy.engine.base.Engine {}\n",
      "('information_schema',)\n",
      "('mysql',)\n",
      "('performance_schema',)\n",
      "('prx',)\n",
      "('sys',)\n"
     ]
    }
   ],
   "source": [
    "databases=engine.execute('SHOW DATABASES')\n",
    "\n",
    "for db in databases: print(db)"
   ]
  },
  {
   "cell_type": "code",
   "execution_count": 12,
   "metadata": {
    "collapsed": false
   },
   "outputs": [],
   "source": [
    "# Declarative mapping:\n",
    "# A class with directives to describe the database table to which they'll be mapped\n",
    "\n",
    "import sqlalchemy.ext.declarative as dec\n",
    "#print(dec.declarative_base.__doc__)\n",
    "\n",
    "# Base is the base class from which the following classes will inherit\n",
    "Base = dec.declarative_base()\n",
    "\n",
    "class jour(Base):\n",
    "    __tablename__='journals'\n",
    "    \n",
    "    id=sqal.Column(sqal.Integer,primary_key=True)\n",
    "    jourName = sqal.Column(sqal.String(100))\n",
    "    abbrev = sqal.Column(sqal.String(100))\n",
    "    pub = sqal.Column(sqal.String(100))\n",
    "    \n",
    "    def __repr__(self):\n",
    "        return \"<journ(name='%s',abbreviation='%',publisher='%')>\"%(self.name,self.abbreviation,self.publisher)"
   ]
  },
  {
   "cell_type": "code",
   "execution_count": 13,
   "metadata": {
    "collapsed": false
   },
   "outputs": [
    {
     "name": "stdout",
     "output_type": "stream",
     "text": [
      "2019-08-19 14:43:32,058 INFO sqlalchemy.engine.base.Engine DESCRIBE `journals`\n",
      "2019-08-19 14:43:32,058 INFO sqlalchemy.engine.base.Engine {}\n",
      "2019-08-19 14:43:32,089 INFO sqlalchemy.engine.base.Engine ROLLBACK\n",
      "2019-08-19 14:43:32,089 INFO sqlalchemy.engine.base.Engine \n",
      "CREATE TABLE journals (\n",
      "\tid INTEGER NOT NULL AUTO_INCREMENT, \n",
      "\t`jourName` VARCHAR(100), \n",
      "\tabbrev VARCHAR(100), \n",
      "\tpub VARCHAR(100), \n",
      "\tPRIMARY KEY (id)\n",
      ")\n",
      "\n",
      "\n",
      "2019-08-19 14:43:32,089 INFO sqlalchemy.engine.base.Engine {}\n",
      "2019-08-19 14:43:32,683 INFO sqlalchemy.engine.base.Engine COMMIT\n"
     ]
    }
   ],
   "source": [
    "# create the table within the database\n",
    "Base.metadata.create_all(engine)\n",
    "\n",
    "# you can now go and find this table in, e.g., mysql workbench"
   ]
  },
  {
   "cell_type": "code",
   "execution_count": 16,
   "metadata": {
    "collapsed": false,
    "scrolled": false
   },
   "outputs": [
    {
     "name": "stdout",
     "output_type": "stream",
     "text": [
      "2019-08-19 14:46:11,124 INFO sqlalchemy.engine.base.Engine BEGIN (implicit)\n",
      "2019-08-19 14:46:11,124 INFO sqlalchemy.engine.base.Engine INSERT INTO journals (`jourName`, abbrev, pub) VALUES (%(jourName)s, %(abbrev)s, %(pub)s)\n",
      "2019-08-19 14:46:11,124 INFO sqlalchemy.engine.base.Engine {'jourName': 'Physical Review Letters', 'pub': 'Americal Physical Society', 'abbrev': 'Phys. Rev. Lett.'}\n",
      "2019-08-19 14:46:11,140 INFO sqlalchemy.engine.base.Engine COMMIT\n"
     ]
    }
   ],
   "source": [
    "sess.rollback()\n",
    "\n",
    "# create an instance of the mapped class (i.e., make a journal object)\n",
    "prl=jour(jourName='Physical Review Letters',abbrev='Phys. Rev. Lett.',pub='Americal Physical Society')\n",
    "\n",
    "# add this as a row in the table\n",
    "sess.add(prl)\n",
    "\n",
    "# this has not yet added anything to the database. We need to commit them first\n",
    "sess.commit()\n"
   ]
  }
 ],
 "metadata": {
  "kernelspec": {
   "display_name": "Python [default]",
   "language": "python",
   "name": "python3"
  },
  "language_info": {
   "codemirror_mode": {
    "name": "ipython",
    "version": 3
   },
   "file_extension": ".py",
   "mimetype": "text/x-python",
   "name": "python",
   "nbconvert_exporter": "python",
   "pygments_lexer": "ipython3",
   "version": "3.5.2"
  }
 },
 "nbformat": 4,
 "nbformat_minor": 2
}
