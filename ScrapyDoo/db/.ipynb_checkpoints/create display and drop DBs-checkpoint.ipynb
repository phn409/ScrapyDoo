{
 "cells": [
  {
   "cell_type": "code",
   "execution_count": 9,
   "metadata": {
    "collapsed": true
   },
   "outputs": [],
   "source": [
    "import sqlalchemy as sqal\n",
    "from importlib import reload\n",
    "sqal=reload(sqal)"
   ]
  },
  {
   "cell_type": "code",
   "execution_count": 43,
   "metadata": {
    "collapsed": false
   },
   "outputs": [
    {
     "name": "stdout",
     "output_type": "stream",
     "text": [
      "('information_schema',)\n",
      "('mysql',)\n",
      "('performance_schema',)\n",
      "('prl',)\n",
      "('sakila',)\n",
      "('sys',)\n",
      "('testdb',)\n",
      "('world',)\n",
      "\n",
      "('information_schema',)\n",
      "('mysql',)\n",
      "('performance_schema',)\n",
      "('prl',)\n",
      "('prx',)\n",
      "('sakila',)\n",
      "('sys',)\n",
      "('testdb',)\n",
      "('world',)\n",
      "\n",
      "('information_schema',)\n",
      "('mysql',)\n",
      "('performance_schema',)\n",
      "('prl',)\n",
      "('sakila',)\n",
      "('sys',)\n",
      "('testdb',)\n",
      "('world',)\n"
     ]
    }
   ],
   "source": [
    "engine = sqlalc.create_engine('mysql+mysqlconnector://'\n",
    "                              'root:sqlPASSWORD@127.0.0.1'\n",
    "                             '/prl')\n",
    "databases=engine.execute('SHOW DATABASES')\n",
    "for db_name in databases.fetchall(): print(db_name)\n",
    "    \n",
    "con=engine.connect()\n",
    "print('')\n",
    "con.execute('commit')\n",
    "try:con.execute('CREATE DATABASE prx')\n",
    "except:pass\n",
    "\n",
    "databases=engine.execute('SHOW DATABASES')\n",
    "for db_name in databases.fetchall(): print(db_name)\n",
    "    \n",
    "print('')\n",
    "con.execute('DROP DATABASE prx')\n",
    "\n",
    "databases=engine.execute('SHOW DATABASES')\n",
    "for db_name in databases.fetchall(): print(db_name)\n"
   ]
  },
  {
   "cell_type": "code",
   "execution_count": null,
   "metadata": {
    "collapsed": true
   },
   "outputs": [],
   "source": []
  }
 ],
 "metadata": {
  "kernelspec": {
   "display_name": "Python 3",
   "language": "python",
   "name": "python3"
  },
  "language_info": {
   "codemirror_mode": {
    "name": "ipython",
    "version": 3
   },
   "file_extension": ".py",
   "mimetype": "text/x-python",
   "name": "python",
   "nbconvert_exporter": "python",
   "pygments_lexer": "ipython3",
   "version": "3.6.0"
  }
 },
 "nbformat": 4,
 "nbformat_minor": 2
}
