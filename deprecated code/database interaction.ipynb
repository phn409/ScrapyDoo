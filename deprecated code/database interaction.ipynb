{
 "cells": [
  {
   "cell_type": "markdown",
   "metadata": {},
   "source": [
    "# Common variables"
   ]
  },
  {
   "cell_type": "code",
   "execution_count": 6,
   "metadata": {
    "collapsed": true
   },
   "outputs": [],
   "source": [
    "database_username='root'\n",
    "database_password='MySQLPassword'\n",
    "database_ip='127.0.0.1'\n",
    "database_name='MySQL'"
   ]
  },
  {
   "cell_type": "markdown",
   "metadata": {},
   "source": [
    "# Pull from database (Method 1)"
   ]
  },
  {
   "cell_type": "code",
   "execution_count": 11,
   "metadata": {
    "collapsed": false
   },
   "outputs": [],
   "source": [
    "# mysql connector allows us to communicate with a MySQL database\n",
    "import mysql.connector\n",
    "\n",
    "'connect with database and create \"cursor\"'\n",
    "mydb=mysql.connector.connect(host=\"localhost\",user=database_username,passwd=database_password,database=database_name)\n",
    "# print('mydb is type:',type(mydb))\n",
    "mycursor=mydb.cursor()\n",
    "# print('mycursor is type:',type(mycursor))"
   ]
  },
  {
   "cell_type": "code",
   "execution_count": 25,
   "metadata": {
    "collapsed": false
   },
   "outputs": [
    {
     "name": "stdout",
     "output_type": "stream",
     "text": [
      "(3, '9')\n",
      "(4, '7')\n",
      "(4, '5')\n",
      "(4, '4')\n",
      "(4, '2')\n",
      "(4, '6')\n",
      "(4, '8')\n",
      "(4, '3')\n"
     ]
    }
   ],
   "source": [
    "'pull from database'\n",
    "sql_cmd='SELECT*FROM prx where ISS >= 3'\n",
    "mycursor.execute(sql_cmd)\n",
    "\n",
    "myresult=mycursor.fetchall()\n",
    "# print('myresult is type:',type(myresult))\n",
    "for x in myresult:\n",
    "    print(x)"
   ]
  },
  {
   "cell_type": "code",
   "execution_count": null,
   "metadata": {
    "collapsed": true
   },
   "outputs": [],
   "source": [
    "from sqlalchemy import create_engine\n",
    "\n",
    "engine=create_engine('mysql+mysqlconnector://{0}:{1}@{2}/{3}'.\n",
    "                     format(database_username,database_password,database_ip,database_name))"
   ]
  },
  {
   "cell_type": "code",
   "execution_count": null,
   "metadata": {
    "collapsed": true
   },
   "outputs": [],
   "source": []
  }
 ],
 "metadata": {
  "kernelspec": {
   "display_name": "Python [conda root]",
   "language": "python",
   "name": "conda-root-py"
  },
  "language_info": {
   "codemirror_mode": {
    "name": "ipython",
    "version": 3
   },
   "file_extension": ".py",
   "mimetype": "text/x-python",
   "name": "python",
   "nbconvert_exporter": "python",
   "pygments_lexer": "ipython3",
   "version": "3.5.2"
  }
 },
 "nbformat": 4,
 "nbformat_minor": 2
}
